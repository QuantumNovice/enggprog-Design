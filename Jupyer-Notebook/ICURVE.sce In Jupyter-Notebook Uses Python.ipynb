{
 "cells": [
  {
   "cell_type": "markdown",
   "metadata": {},
   "source": [
    "# Program for Uniaxial Interaction <br/>Curve of Rectangular RC- Column\n",
    "Version 0.03<br/>\n",
    "Distributed under the license of GNU/GPL v3<br/>\n",
    "\n",
    "Author: Engr. Faisal ur Rehman<br/>\n",
    "enggprog.com - Engineering Programs<br/>\n",
    "\n",
    "Jupyyer Notebook Maintainer<br/>\n",
    "18pwciv4991@uetpeshawar.edu.pk<br/>\n",
    "\n",
    "This part is the same as <br/>\n",
    "pre-processor for icurve.sce.<br/>\n",
    "\n",
    "input variables for pframem.sce\n",
    "for test\n",
    "\n",
    "units = inch - kips\n",
    "\n",
    "# Usage\n",
    "## Change the values of variables\n",
    "### Goto Cell ---> Run All"
   ]
  },
  {
   "cell_type": "code",
   "execution_count": 110,
   "metadata": {},
   "outputs": [],
   "source": [
    "import numpy as np\n",
    "import matplotlib.pyplot as plt"
   ]
  },
  {
   "cell_type": "markdown",
   "metadata": {},
   "source": [
    "Change Variables from here no need for var01.bin"
   ]
  },
  {
   "cell_type": "code",
   "execution_count": 111,
   "metadata": {},
   "outputs": [],
   "source": [
    "#store to var01.bin\n",
    "d1 = 12;  # width of section\n",
    "d2 = 20;  # height of section\n",
    "d3 = 2.5; # cover c/c\n",
    "\n",
    "fcp = 4000;    # compressive strength of concrete\n",
    "fy = 60000;   # yeild strength of steel rebar\n",
    "E = 29000000; # modulus of elasticity of steel rebar\n",
    "\n",
    "s = [2.5, 6, 9.5]; # spacing of each rebar column from right edge of section\n",
    "n = [3, 2, 3];     # of rebar in each column from right edge of section\n",
    "Ab = [1, 1, 1];    # Area of rebar column from right edge of section"
   ]
  },
  {
   "cell_type": "code",
   "execution_count": 112,
   "metadata": {},
   "outputs": [],
   "source": [
    "As = []\n",
    "for i in range(len(Ab)):\n",
    "    As.append( n[i] * Ab[i] )\n",
    "\n",
    "d = d1 - d3;\n",
    "eu = 0.003;\n",
    "ey = fy / E;"
   ]
  },
  {
   "cell_type": "markdown",
   "metadata": {},
   "source": [
    "# For Balanced Failure Mode"
   ]
  },
  {
   "cell_type": "code",
   "execution_count": 113,
   "metadata": {},
   "outputs": [
    {
     "name": "stdout",
     "output_type": "stream",
     "text": [
      "cb =  5.622448979591836\n"
     ]
    }
   ],
   "source": [
    "cb = d * eu / (eu + ey);\n",
    "print('cb = ', str(cb))"
   ]
  },
  {
   "cell_type": "markdown",
   "metadata": {},
   "source": [
    "# Full tension"
   ]
  },
  {
   "cell_type": "code",
   "execution_count": 114,
   "metadata": {},
   "outputs": [],
   "source": [
    "Asfs = 0;\n",
    "Asfsx =0;\n",
    "fs = []\n",
    "for j in range(len(s)):\n",
    "    fs.append(-fy)\n",
    "    Asfs = Asfs + As[j]*fs[j];\n",
    "    Asfsx = Asfsx + As[j]*fs[j]*(d1/2-s[j]);\n",
    "    \n",
    "Pn = [Asfs/1000]\n",
    "Mn = [Asfsx/12000]"
   ]
  },
  {
   "cell_type": "code",
   "execution_count": 115,
   "metadata": {},
   "outputs": [],
   "source": [
    "c = 0.1;\n",
    "i = 2;\n",
    "while c <= d1+.1:\n",
    "    #disp('loop ran for ', string(i-1))\n",
    "    a = 0.85 * c;\n",
    "    # finding fs\n",
    "    Asfs = 0;\n",
    "    Asfsx = 0;    \n",
    "    for j in range(len(s)):\n",
    "        fs[j] = eu*E*(c-s[j])/c;\n",
    "        if fs[j] < 0:\n",
    "            if fs[j] < -fy:\n",
    "                 fs[j] = -fy;\n",
    "        elif fs[j] > 0:\n",
    "            if fs[j] > fy:\n",
    "                fs[j] = fy;\n",
    "        Asfs = Asfs + As[j]*fs[j];\n",
    "    Asfsx = Asfsx + As[j]*fs[j]*(d1/2-s[j]);\n",
    "\n",
    "    Pn.append( (0.85*fcp*d2*a +Asfs)/1000 );\n",
    "    Mn.append( (0.85*fcp*d2*a*(d1/2-a/2) + Asfsx)/12000 );\n",
    "    c = c + 0.1\n",
    "    i = i+1"
   ]
  },
  {
   "cell_type": "markdown",
   "metadata": {},
   "source": [
    "# Full compression"
   ]
  },
  {
   "cell_type": "code",
   "execution_count": 116,
   "metadata": {},
   "outputs": [],
   "source": [
    "Asfs = 0;\n",
    "Asfsx = 0;\n",
    "for j in range(len(s)):\n",
    "    fs[j] = fy;\n",
    "    Asfs = Asfs + As[j]*fs[j];\n",
    "    Asfsx = Asfsx + As[j]*fs[j]*(d1/2-s[j]);\n",
    "\n",
    "\n",
    "Pn.append( (0.85*fcp*d2*d1 + Asfs)/1000);\n",
    "Mn.append( (0.85*fcp*d2*d1*(0) + Asfsx)/12000);"
   ]
  },
  {
   "cell_type": "code",
   "execution_count": 117,
   "metadata": {},
   "outputs": [
    {
     "data": {
      "image/png": "[encoded data removed]",
      "text/plain": [
       "<Figure size 432x288 with 1 Axes>"
      ]
     },
     "metadata": {},
     "output_type": "display_data"
    }
   ],
   "source": [
    "plt.plot(Mn, Pn)\n",
    "plt.xlabel('Mn (ft-kips)')\n",
    "plt.ylabel('Pn (kips)')\n",
    "plt.title('Interaction Curve')\n",
    "plt.grid(1)\n",
    "\n",
    "#saves Mn data to Matrix A's first column\n",
    "#saves Pn data to Matrix A's second column\n",
    "A = np.array([Mn,Pn]).T\n",
    "A = A.astype('float')\n",
    "\n",
    "array = A\n",
    "# format as a block of csv text to do whatever you want\n",
    "csv_rows = [\"{},{}\".format(i, j) for i, j in array]\n",
    "csv_text = \"\\n\".join(csv_rows)\n",
    "\n",
    "# write it to a file\n",
    "with open('file.csv', 'w') as f:\n",
    "    f.write(csv_text)"
   ]
  }
 ],
 "metadata": {
  "kernelspec": {
   "display_name": "Python 3",
   "language": "python",
   "name": "python3"
  },
  "language_info": {
   "codemirror_mode": {
    "name": "ipython",
    "version": 3
   },
   "file_extension": ".py",
   "mimetype": "text/x-python",
   "name": "python",
   "nbconvert_exporter": "python",
   "pygments_lexer": "ipython3",
   "version": "3.6.5"
  }
 },
 "nbformat": 4,
 "nbformat_minor": 2
}
